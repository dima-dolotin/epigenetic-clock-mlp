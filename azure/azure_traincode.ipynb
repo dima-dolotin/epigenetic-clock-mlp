{
 "cells": [
  {
   "cell_type": "markdown",
   "id": "f40135cf-aa65-4113-9bc2-c8c1877c9b35",
   "metadata": {},
   "source": [
    "### Sign in with your credential and get a hanlde"
   ]
  },
  {
   "cell_type": "code",
   "execution_count": 1,
   "id": "1b40448a-00c1-460b-8960-6e9cb3687f4d",
   "metadata": {
    "collapsed": false,
    "gather": {
     "logged": 1760607627937
    },
    "jupyter": {
     "outputs_hidden": false,
     "source_hidden": false
    },
    "nteract": {
     "transient": {
      "deleting": false
     }
    }
   },
   "outputs": [],
   "source": [
    "from azure.ai.ml import MLClient\n",
    "from azure.identity import DefaultAzureCredential\n",
    "\n",
    "ml_client = MLClient(\n",
    "    DefaultAzureCredential(), subscription_id=\"\",\n",
    "    resource_group_name=\"\",\n",
    "    workspace_name=\"\"\n",
    ")"
   ]
  },
  {
   "cell_type": "markdown",
   "id": "79a3fa4e-ca54-4c70-804a-6f3327566337",
   "metadata": {},
   "source": [
    "### Create data asset"
   ]
  },
  {
   "cell_type": "code",
   "execution_count": null,
   "id": "77d4901b-96dd-40be-b7df-accdc8653526",
   "metadata": {},
   "outputs": [],
   "source": [
    "from azure.ai.ml.entities import Data\n",
    "from azure.ai.ml.constants import AssetTypes\n",
    "\n",
    "my_path = './data/scores.csv'\n",
    "\n",
    "my_data = Data(\n",
    "    path=my_path,\n",
    "    type=AssetTypes.URI_FILE,\n",
    "    description=\"Principle components dataset of CpG site methylation betas\",\n",
    "    name=\"dataset\",\n",
    "    version=\"1\"\n",
    ")\n",
    "\n",
    "ml_client.data.create_or_update(my_data)"
   ]
  },
  {
   "cell_type": "markdown",
   "id": "18178441-4922-4d5c-8fc8-4b93fbd6a612",
   "metadata": {},
   "source": [
    "### Create the environment"
   ]
  },
  {
   "cell_type": "code",
   "execution_count": null,
   "id": "a070b179-95a5-4177-a76a-b288b865b340",
   "metadata": {
    "collapsed": false,
    "gather": {
     "logged": 1760444223808
    },
    "jupyter": {
     "outputs_hidden": false,
     "source_hidden": false
    },
    "nteract": {
     "transient": {
      "deleting": false
     }
    }
   },
   "outputs": [],
   "source": [
    "from azure.ai.ml.entities import Environment\n",
    "\n",
    "env_docker_conda = Environment(\n",
    "    image=\"pytorch/pytorch:latest\",\n",
    "    conda_file=\"./env.yml\",\n",
    "    name=\"pytorch-methylation\",\n",
    "    description=\"Environment for methylation training\",\n",
    "    version = '1'\n",
    ")\n",
    "ml_client.environments.create_or_update(env_docker_conda)"
   ]
  },
  {
   "cell_type": "markdown",
   "id": "4f20cd8e-f78a-4a7b-b5f1-9e052dcb3b5c",
   "metadata": {},
   "source": [
    "### Configure the training job with hyperparameters tunning"
   ]
  },
  {
   "cell_type": "code",
   "execution_count": 2,
   "id": "2ff85dc4-2b63-4768-82a6-16d20384da39",
   "metadata": {
    "gather": {
     "logged": 1760607632889
    }
   },
   "outputs": [],
   "source": [
    "from azure.ai.ml import command\n",
    "\n",
    "# configure command job as base\n",
    "job = command(\n",
    "    code=\"./\",\n",
    "    command=\"python train.py --training_data ./scores.csv  --learning_rate ${{inputs.learn_rate}} --beta_one ${{inputs.beta_one}} --beta_two ${{inputs.beta_two}} --epsilon ${{inputs.eps}} --weight_decay ${{inputs.decay}} --epochs ${{inputs.epochs}} --batch_size ${{inputs.batch}} --testset_n 10\",\n",
    "    inputs={\n",
    "        \"learn_rate\": 1e-3, \"beta_one\": 0.9, \"beta_two\": 0.99, \"eps\": 1e-8, \"decay\": 3e-4, \"epochs\": 1000, \"batch\": 64\n",
    "    },\n",
    "    environment=\"pytorch-methylation\",\n",
    "    compute=\"aml-cluster\",\n",
    "    )"
   ]
  },
  {
   "cell_type": "code",
   "execution_count": 3,
   "id": "c4afa6ec-a349-4640-a012-5b9d1845497c",
   "metadata": {
    "gather": {
     "logged": 1760607634703
    }
   },
   "outputs": [],
   "source": [
    "from azure.ai.ml.sweep import Choice\n",
    "\n",
    "command_job_for_sweep = job(\n",
    "    learn_rate=Choice(values=[1e-5, 1e-4, 1e-3, 5e-3]),\n",
    "    beta_one=Choice(values=[0.9, 0.85, 0.95]),\n",
    "    beta_two=Choice(values=[0.99, 0.995]),\n",
    "    eps=Choice(values=[1e-8, 1e-7]),\n",
    "    decay=Choice(values=[1e-5, 1e-4, 5e-4]),\n",
    "    epochs=Choice(values=[100, 250, 500]),\n",
    "    batch=Choice(values=[32, 64, 128])\n",
    ")"
   ]
  },
  {
   "cell_type": "markdown",
   "id": "b2e34e35-a1ab-4f40-917a-40ca84c20572",
   "metadata": {},
   "source": [
    "### Configure the termination parameters and run the job"
   ]
  },
  {
   "cell_type": "code",
   "execution_count": null,
   "id": "2d3fa976-7605-4ca9-8574-33ddb329093a",
   "metadata": {
    "gather": {
     "logged": 1760607642885
    }
   },
   "outputs": [],
   "source": [
    "from azure.ai.ml.sweep import BanditPolicy\n",
    "\n",
    "sweep_job = command_job_for_sweep.sweep(\n",
    "    compute=\"aml-cluster\",\n",
    "    sampling_algorithm=\"bayesian\",\n",
    "    primary_metric=\"MSE\",\n",
    "    goal=\"Minimize\",\n",
    ")\n",
    "\n",
    "sweep_job.early_termination = BanditPolicy(\n",
    "    slack_amount = 50,\n",
    "    delay_evaluation = 5, \n",
    "    evaluation_interval = 1\n",
    ")\n",
    "\n",
    "sweep_job.experiment_name=\"tunning\"\n",
    "\n",
    "# define the limits for this sweep\n",
    "sweep_job.set_limits(max_total_trials=80, max_concurrent_trials=2, timeout=30200)\n",
    "\n",
    "# submit the sweep\n",
    "returned_sweep_job = ml_client.create_or_update(sweep_job)"
   ]
  }
 ],
 "metadata": {
  "kernel_info": {
   "name": "python310-sdkv2"
  },
  "kernelspec": {
   "display_name": "Python 3 (ipykernel)",
   "language": "python",
   "name": "python3"
  },
  "language_info": {
   "codemirror_mode": {
    "name": "ipython",
    "version": 3
   },
   "file_extension": ".py",
   "mimetype": "text/x-python",
   "name": "python",
   "nbconvert_exporter": "python",
   "pygments_lexer": "ipython3",
   "version": "3.12.5"
  },
  "microsoft": {
   "host": {
    "AzureML": {
     "notebookHasBeenCompleted": true
    }
   },
   "ms_spell_check": {
    "ms_spell_check_language": "en"
   }
  },
  "nteract": {
   "version": "nteract-front-end@1.0.0"
  }
 },
 "nbformat": 4,
 "nbformat_minor": 5
}
