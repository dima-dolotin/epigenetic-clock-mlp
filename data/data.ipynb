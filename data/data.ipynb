{
 "cells": [
  {
   "cell_type": "markdown",
   "id": "b9358e7a-af58-41cc-bbd5-c29df4039e0c",
   "metadata": {},
   "source": [
    "**The initial dataset files `GSE87571_matrix1of2.txt` `GSE87571_matrix2of2.txt` `Supporting_tableS1_rev.csv` should be downloaded from the following page [Series GSE87571](https://www.ncbi.nlm.nih.gov/geo/query/acc.cgi?acc=GSE87571)**"
   ]
  },
  {
   "cell_type": "code",
   "execution_count": 127,
   "id": "5ea18570-bdcb-4c5f-a5e8-66c26a7431eb",
   "metadata": {},
   "outputs": [],
   "source": [
    "%reset -f\n",
    "import pandas as pd\n",
    "import numpy as np\n",
    "import matplotlib.pyplot as plt\n",
    "import GEOparse"
   ]
  },
  {
   "cell_type": "markdown",
   "id": "c304bdaa-a367-481f-81f7-5408d74deb07",
   "metadata": {},
   "source": [
    "### Read the files"
   ]
  },
  {
   "cell_type": "code",
   "execution_count": 128,
   "id": "530ab2e4-b337-4494-8a7e-3615075ae5ea",
   "metadata": {},
   "outputs": [],
   "source": [
    "file_path = \"GSE87571_matrix1of2.txt\"\n",
    "\n",
    "beta_part1 = pd.read_csv(file_path, sep='\\t', index_col=0)"
   ]
  },
  {
   "cell_type": "code",
   "execution_count": 129,
   "id": "e857404a-ce0e-4e99-9529-cf6d2412de59",
   "metadata": {},
   "outputs": [],
   "source": [
    "file_path = \"GSE87571_matrix2of2.txt\"\n",
    "\n",
    "beta_part2 = pd.read_csv(file_path, sep='\\t', index_col=0)"
   ]
  },
  {
   "cell_type": "markdown",
   "id": "b4b75144-46c4-4f86-89df-2c9fd2bc6553",
   "metadata": {},
   "source": [
    "### Merge the duplicate columns (different versions of the betas measurement, which either contain the beta value or 0). Also remove auxiliar rows."
   ]
  },
  {
   "cell_type": "code",
   "execution_count": 130,
   "id": "169ee917-ce21-435a-9613-8cdffe1884fa",
   "metadata": {},
   "outputs": [],
   "source": [
    "methyl_part1 = pd.DataFrame()\n",
    "\n",
    "n_pairs = len(beta_part1.columns) // 2\n",
    "\n",
    "left  = beta_part1.iloc[:, 0:2*n_pairs:2] \n",
    "right = beta_part1.iloc[:, 1:2*n_pairs:2]\n",
    "\n",
    "methyl_part1 = left.where(~((left.eq(0.0)) | (left.isna())), right.to_numpy())\n",
    "methyl_part1 = methyl_part1.iloc[:485462,:]\n",
    "del beta_part1"
   ]
  },
  {
   "cell_type": "code",
   "execution_count": 131,
   "id": "304cb2fc-fe05-4c70-bb0e-ad323a372dae",
   "metadata": {},
   "outputs": [],
   "source": [
    "methyl_part2 = pd.DataFrame()\n",
    "\n",
    "n_pairs = len(beta_part2.columns) // 2\n",
    "\n",
    "left  = beta_part2.iloc[:, 0:2*n_pairs:2]   \n",
    "right = beta_part2.iloc[:, 1:2*n_pairs:2]  \n",
    "\n",
    "\n",
    "methyl_part2 = left.where(~((left.eq(0.0)) | (left.isna())), right.to_numpy())\n",
    "methyl_part2 = methyl_part2.iloc[:485462,:]\n",
    "del beta_part2"
   ]
  },
  {
   "cell_type": "markdown",
   "id": "5722a25c-54a7-4af0-9a09-1f3c500b70d7",
   "metadata": {},
   "source": [
    "### Download the experiment data via GEO library, which contains additional information regarding the gender and age"
   ]
  },
  {
   "cell_type": "code",
   "execution_count": null,
   "id": "33d7caaa-cff5-4e63-bec8-1549329e8437",
   "metadata": {
    "scrolled": true
   },
   "outputs": [],
   "source": [
    "gse = GEOparse.get_GEO(\"GSE87571\")\n",
    "samples = gse.phenotype_data"
   ]
  },
  {
   "cell_type": "markdown",
   "id": "71cd7a10-d7b5-4d18-861f-cf7af16f78fa",
   "metadata": {},
   "source": [
    "### Filter the CpG sites which have statistically significant (Bonferonni adj <0.05) correlation with age"
   ]
  },
  {
   "cell_type": "code",
   "execution_count": 133,
   "id": "60ae7ea3-1d7c-4b08-8867-65cabcc02441",
   "metadata": {},
   "outputs": [],
   "source": [
    "sites = pd.read_csv('Supporting_tableS1_rev.csv')"
   ]
  },
  {
   "cell_type": "code",
   "execution_count": 134,
   "id": "54436774-fdaf-4eb7-b3e1-eb7a41f42827",
   "metadata": {},
   "outputs": [],
   "source": [
    "hyperm = sites[(sites['P-value'] < 0.000000105) & (~ sites['IlmnID'].str.startswith('ch'))]"
   ]
  },
  {
   "cell_type": "markdown",
   "id": "9d1e666b-658c-4b31-841f-82152e225e9a",
   "metadata": {},
   "source": [
    "### Replace the automatic sample names with the ones used in the GEO dataset"
   ]
  },
  {
   "cell_type": "code",
   "execution_count": 135,
   "id": "f19852e4-6dc2-44f4-ad30-3b4645e7a7e4",
   "metadata": {},
   "outputs": [],
   "source": [
    "col_names = samples[['geo_accession', 'title']].copy()"
   ]
  },
  {
   "cell_type": "code",
   "execution_count": 136,
   "id": "dd13b765-1a30-48c4-b5ba-f7ae4339d369",
   "metadata": {},
   "outputs": [],
   "source": [
    "col_names['title'] = 'X' + col_names['title'].str.extract(r'(\\d+)')[0]\n",
    "col_names = col_names.set_index('title').rename_axis('old_name')[['geo_accession']].rename(columns = {'geo_accession':'new_name'})"
   ]
  },
  {
   "cell_type": "code",
   "execution_count": 137,
   "id": "f2db88d1-fcf2-4b73-91e1-3afecbfd13db",
   "metadata": {},
   "outputs": [],
   "source": [
    "rename_map = col_names['new_name'].to_dict()\n",
    "\n",
    "methyl_part1.rename(columns=rename_map, inplace=True)\n",
    "methyl_part2.rename(columns=rename_map, inplace=True)"
   ]
  },
  {
   "cell_type": "markdown",
   "id": "d5213761-1094-4d18-a592-51e01ea09bcf",
   "metadata": {},
   "source": [
    "### Concatenate two parts of the data set and add the age and gender rows"
   ]
  },
  {
   "cell_type": "code",
   "execution_count": 139,
   "id": "bfccfd61-d333-405d-9dea-f5f92c4d31ee",
   "metadata": {},
   "outputs": [],
   "source": [
    "dataset_intermed = pd.concat([methyl_part1, methyl_part2], axis = 1)\n",
    "del methyl_part1, methyl_part2\n",
    "\n",
    "dataset_intermed = dataset_intermed.loc[hyperm['IlmnID']]\n",
    "\n",
    "dataset_intermed.loc['gender'] = samples['characteristics_ch1.0.gender'].map({'Male': 1, 'Female': 0})\n",
    "dataset_intermed.loc['age'] = samples['characteristics_ch1.1.age']\n",
    "dataset_intermed.to_csv('dataset_intermed.csv')"
   ]
  },
  {
   "cell_type": "markdown",
   "id": "d1832f66-3d55-4464-b751-8bd58caff798",
   "metadata": {},
   "source": [
    "### Reset the variables space for RAM management"
   ]
  },
  {
   "cell_type": "code",
   "execution_count": 2,
   "id": "658ec973-1e8f-4aab-b532-d84f0a74afef",
   "metadata": {},
   "outputs": [],
   "source": [
    "%reset -f\n",
    "import pandas as pd\n",
    "import numpy as np\n",
    "import matplotlib.pyplot as plt\n",
    "import GEOparse"
   ]
  },
  {
   "cell_type": "markdown",
   "id": "977a399f-f418-40da-bc1b-d5f1e6cf4913",
   "metadata": {},
   "source": [
    "### Principle Component Analysis using the singular value decomposition"
   ]
  },
  {
   "cell_type": "code",
   "execution_count": null,
   "id": "f188e5d4-aca1-414b-b8e2-5781e5c389b3",
   "metadata": {},
   "outputs": [],
   "source": [
    "#Due to the big amount of data the principle components are calculated using Singular value decomposition, rather than the Eigenvalue decomposition of a covariance matrix\n",
    "\n",
    "dataset = pd.read_csv('dataset_intermed.csv', index_col = 0)\n",
    "\n",
    "X = dataset.iloc[:-2, :].to_numpy()\n",
    "\n",
    "# Transpose to the usual pattern - variables in columns, samples in rows\n",
    "X = X.T\n",
    "\n",
    "X = X - X.mean(axis = 0, keepdims=True)\n",
    "\n",
    "U, S, V = np.linalg.svd(X, full_matrices=False)"
   ]
  },
  {
   "cell_type": "code",
   "execution_count": null,
   "id": "cb3d8121-abb5-4b0a-8096-66aef5197ca4",
   "metadata": {},
   "outputs": [],
   "source": [
    "pc_names = [f\"PC{i+1}\" for i in range(len(S))]\n",
    "\n",
    "scores = pd.DataFrame(U * S, index=dataset.columns, columns=pc_names)\n",
    "\n",
    "loadings = pd.DataFrame(V.T, index=dataset.index[:-2], columns=pc_names)\n",
    "\n",
    "scores_63 = scores.iloc[:, :63].copy()\n",
    "scores_63['gender'] = dataset.loc['gender']\n",
    "scores_63['age'] = dataset.loc['age']\n",
    "\n",
    "# Fill the few missing values (3 for age, 1 for gender)\n",
    "scores_63['age'] = scores_63['age'].fillna(scores_63['age'].mean())\n",
    "scores_63['gender'] = scores_63['gender'].fillna(1)\n",
    "\n",
    "# Save the final dataset\n",
    "scores_63.to_csv('scores.csv')"
   ]
  },
  {
   "cell_type": "markdown",
   "id": "31347d4a-cf66-4d2a-85c5-247cc0330960",
   "metadata": {},
   "source": [
    "### Plot the share of variance covered by the chosen 63 principle components"
   ]
  },
  {
   "cell_type": "code",
   "execution_count": 143,
   "id": "dd1a4d7a-9b18-450c-bd59-367269f0da2f",
   "metadata": {},
   "outputs": [
    {
     "data": {
      "image/png": "[encoded data removed]",
      "text/plain": [
       "<Figure size 900x500 with 1 Axes>"
      ]
     },
     "metadata": {},
     "output_type": "display_data"
    }
   ],
   "source": [
    "PC_variance = (S**2) / (len(X) - 1)\n",
    "explained_var_ratio = PC_variance / PC_variance.sum()\n",
    "\n",
    "k = 63\n",
    "x = np.arange(1, k + 1)\n",
    "\n",
    "plt.figure(figsize=(9, 5)) # Initialize figure\n",
    "\n",
    "plt.plot(x, explained_var_ratio[:k], marker='o', linewidth=1) # PLot the variance for each PC\n",
    "\n",
    "cum = explained_var_ratio.cumsum()[:k] # Cumulative variance\n",
    "\n",
    "plt.plot(x, cum, marker='o', linewidth=1) # Plot the cummulative variance\n",
    "\n",
    "# Legend\n",
    "plt.title(f\"Scree Plot (First {k} PCs)\")\n",
    "plt.xlabel(\"Principal Component\")\n",
    "plt.ylabel(\"Explained Variance Ratio\")\n",
    "plt.xticks(np.arange(1, k + 1, 5))\n",
    "plt.legend([\"Per PC\", \"Cumulative\"])\n",
    "plt.grid(True, alpha=0.3)\n",
    "plt.tight_layout()\n",
    "\n",
    "plt.show()\n",
    "plt.savefig(\"PC_variance.png\", dpi=500, bbox_inches='tight')"
   ]
  }
 ],
 "metadata": {
  "kernelspec": {
   "display_name": "Python 3 (ipykernel)",
   "language": "python",
   "name": "python3"
  },
  "language_info": {
   "codemirror_mode": {
    "name": "ipython",
    "version": 3
   },
   "file_extension": ".py",
   "mimetype": "text/x-python",
   "name": "python",
   "nbconvert_exporter": "python",
   "pygments_lexer": "ipython3",
   "version": "3.12.5"
  }
 },
 "nbformat": 4,
 "nbformat_minor": 5
}
